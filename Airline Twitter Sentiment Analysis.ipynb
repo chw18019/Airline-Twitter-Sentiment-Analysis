{
  "nbformat": 4,
  "nbformat_minor": 0,
  "metadata": {
    "colab": {
      "name": "Copy of Sentiment Analysis.ipynb",
      "provenance": []
    },
    "kernelspec": {
      "name": "python3",
      "display_name": "Python 3"
    },
    "accelerator": "TPU"
  },
  "cells": [
    {
      "cell_type": "markdown",
      "metadata": {
        "id": "0qQlUeoliIbq",
        "colab_type": "text"
      },
      "source": [
        "# Sentiment Analysis and Text Clustering"
      ]
    },
    {
      "cell_type": "markdown",
      "metadata": {
        "id": "JK5agKP3ftts",
        "colab_type": "text"
      },
      "source": [
        "## Load Dataset"
      ]
    },
    {
      "cell_type": "code",
      "metadata": {
        "id": "ysj4hb53ZlkP",
        "colab_type": "code",
        "colab": {}
      },
      "source": [
        "from google.colab import drive, files\n",
        "import numpy as np\n",
        "import pandas as pd\n",
        "from matplotlib import pyplot as plt\n",
        "import sklearn\n",
        "import re\n",
        "import seaborn as sns"
      ],
      "execution_count": 0,
      "outputs": []
    },
    {
      "cell_type": "code",
      "metadata": {
        "id": "afuoUwm_bHQP",
        "colab_type": "code",
        "outputId": "a891b7b7-5161-44f0-efc7-e3eafa8fb610",
        "colab": {
          "base_uri": "https://localhost:8080/",
          "height": 122
        }
      },
      "source": [
        "from google.colab import drive\n",
        "drive.mount('/content/drive')"
      ],
      "execution_count": 0,
      "outputs": [
        {
          "output_type": "stream",
          "text": [
            "Go to this URL in a browser: https://accounts.google.com/o/oauth2/auth?client_id=947318989803-6bn6qk8qdgf4n4g3pfee6491hc0brc4i.apps.googleusercontent.com&redirect_uri=urn%3aietf%3awg%3aoauth%3a2.0%3aoob&response_type=code&scope=email%20https%3a%2f%2fwww.googleapis.com%2fauth%2fdocs.test%20https%3a%2f%2fwww.googleapis.com%2fauth%2fdrive%20https%3a%2f%2fwww.googleapis.com%2fauth%2fdrive.photos.readonly%20https%3a%2f%2fwww.googleapis.com%2fauth%2fpeopleapi.readonly\n",
            "\n",
            "Enter your authorization code:\n",
            "··········\n",
            "Mounted at /content/drive\n"
          ],
          "name": "stdout"
        }
      ]
    },
    {
      "cell_type": "code",
      "metadata": {
        "id": "27IKeCZJbWvd",
        "colab_type": "code",
        "colab": {}
      },
      "source": [
        "url = \"https://drive.google.com/uc?export=download&id=1Xi4Xv6FVAwruTSWrCexrRrBanw8C0mbI\"\n",
        "df = pd.read_csv(url, encoding = \"latin1\",header=0)"
      ],
      "execution_count": 0,
      "outputs": []
    },
    {
      "cell_type": "code",
      "metadata": {
        "id": "DnirDA2wiXP4",
        "colab_type": "code",
        "outputId": "09c62e3b-d45b-442d-853a-b7217a66f5f7",
        "colab": {
          "base_uri": "https://localhost:8080/",
          "height": 34
        }
      },
      "source": [
        "df.shape"
      ],
      "execution_count": 0,
      "outputs": [
        {
          "output_type": "execute_result",
          "data": {
            "text/plain": [
              "(14640, 20)"
            ]
          },
          "metadata": {
            "tags": []
          },
          "execution_count": 4
        }
      ]
    },
    {
      "cell_type": "code",
      "metadata": {
        "id": "OwnoNkxIn-4z",
        "colab_type": "code",
        "colab": {}
      },
      "source": [
        "df['text'] = df.text.str.replace('@VirginAmerica','@Airline 1')\n",
        "df['text'] = df.text.str.replace('@AmericanAir','@Airline 5')\n",
        "df['text'] = df.text.str.replace('American Airlines','Airline 5')\n",
        "df['text'] = df.text.str.replace('#BlackBerry10','')\n"
      ],
      "execution_count": 0,
      "outputs": []
    },
    {
      "cell_type": "code",
      "metadata": {
        "id": "wHg0UCGJjSQQ",
        "colab_type": "code",
        "outputId": "989bf281-489a-4cc8-cfd5-4f1c58c21a2e",
        "colab": {
          "base_uri": "https://localhost:8080/",
          "height": 419
        }
      },
      "source": [
        "df[['tweet_id','tweet_created','text']]"
      ],
      "execution_count": 0,
      "outputs": [
        {
          "output_type": "execute_result",
          "data": {
            "text/html": [
              "<div>\n",
              "<style scoped>\n",
              "    .dataframe tbody tr th:only-of-type {\n",
              "        vertical-align: middle;\n",
              "    }\n",
              "\n",
              "    .dataframe tbody tr th {\n",
              "        vertical-align: top;\n",
              "    }\n",
              "\n",
              "    .dataframe thead th {\n",
              "        text-align: right;\n",
              "    }\n",
              "</style>\n",
              "<table border=\"1\" class=\"dataframe\">\n",
              "  <thead>\n",
              "    <tr style=\"text-align: right;\">\n",
              "      <th></th>\n",
              "      <th>tweet_id</th>\n",
              "      <th>tweet_created</th>\n",
              "      <th>text</th>\n",
              "    </tr>\n",
              "  </thead>\n",
              "  <tbody>\n",
              "    <tr>\n",
              "      <th>0</th>\n",
              "      <td>5.703060e+17</td>\n",
              "      <td>2/24/15 11:35</td>\n",
              "      <td>@Airline 1 What @dhepburn said.</td>\n",
              "    </tr>\n",
              "    <tr>\n",
              "      <th>1</th>\n",
              "      <td>5.703010e+17</td>\n",
              "      <td>2/24/15 11:15</td>\n",
              "      <td>@Airline 1 plus you've added commercials to th...</td>\n",
              "    </tr>\n",
              "    <tr>\n",
              "      <th>2</th>\n",
              "      <td>5.703010e+17</td>\n",
              "      <td>2/24/15 11:15</td>\n",
              "      <td>@Airline 1 I didn't today... Must mean I need ...</td>\n",
              "    </tr>\n",
              "    <tr>\n",
              "      <th>3</th>\n",
              "      <td>5.703010e+17</td>\n",
              "      <td>2/24/15 11:15</td>\n",
              "      <td>@Airline 1 it's really aggressive to blast obn...</td>\n",
              "    </tr>\n",
              "    <tr>\n",
              "      <th>4</th>\n",
              "      <td>5.703010e+17</td>\n",
              "      <td>2/24/15 11:14</td>\n",
              "      <td>@Airline 1 and it's a really big bad thing abo...</td>\n",
              "    </tr>\n",
              "    <tr>\n",
              "      <th>...</th>\n",
              "      <td>...</td>\n",
              "      <td>...</td>\n",
              "      <td>...</td>\n",
              "    </tr>\n",
              "    <tr>\n",
              "      <th>14635</th>\n",
              "      <td>5.695880e+17</td>\n",
              "      <td>2/22/15 12:01</td>\n",
              "      <td>@Airline 5 thank you we got on a different fli...</td>\n",
              "    </tr>\n",
              "    <tr>\n",
              "      <th>14636</th>\n",
              "      <td>5.695870e+17</td>\n",
              "      <td>2/22/15 11:59</td>\n",
              "      <td>@Airline 5 leaving over 20 minutes Late Flight...</td>\n",
              "    </tr>\n",
              "    <tr>\n",
              "      <th>14637</th>\n",
              "      <td>5.695870e+17</td>\n",
              "      <td>2/22/15 11:59</td>\n",
              "      <td>@Airline 5 Please bring Airline 5 to</td>\n",
              "    </tr>\n",
              "    <tr>\n",
              "      <th>14638</th>\n",
              "      <td>5.695870e+17</td>\n",
              "      <td>2/22/15 11:59</td>\n",
              "      <td>@Airline 5 you have my money, you change my fl...</td>\n",
              "    </tr>\n",
              "    <tr>\n",
              "      <th>14639</th>\n",
              "      <td>5.695870e+17</td>\n",
              "      <td>2/22/15 11:58</td>\n",
              "      <td>@Airline 5 we have 8 ppl so we need 2 know how...</td>\n",
              "    </tr>\n",
              "  </tbody>\n",
              "</table>\n",
              "<p>14640 rows × 3 columns</p>\n",
              "</div>"
            ],
            "text/plain": [
              "           tweet_id  ...                                               text\n",
              "0      5.703060e+17  ...                    @Airline 1 What @dhepburn said.\n",
              "1      5.703010e+17  ...  @Airline 1 plus you've added commercials to th...\n",
              "2      5.703010e+17  ...  @Airline 1 I didn't today... Must mean I need ...\n",
              "3      5.703010e+17  ...  @Airline 1 it's really aggressive to blast obn...\n",
              "4      5.703010e+17  ...  @Airline 1 and it's a really big bad thing abo...\n",
              "...             ...  ...                                                ...\n",
              "14635  5.695880e+17  ...  @Airline 5 thank you we got on a different fli...\n",
              "14636  5.695870e+17  ...  @Airline 5 leaving over 20 minutes Late Flight...\n",
              "14637  5.695870e+17  ...              @Airline 5 Please bring Airline 5 to \n",
              "14638  5.695870e+17  ...  @Airline 5 you have my money, you change my fl...\n",
              "14639  5.695870e+17  ...  @Airline 5 we have 8 ppl so we need 2 know how...\n",
              "\n",
              "[14640 rows x 3 columns]"
            ]
          },
          "metadata": {
            "tags": []
          },
          "execution_count": 21
        }
      ]
    },
    {
      "cell_type": "code",
      "metadata": {
        "id": "4UNQrtXLzf9Y",
        "colab_type": "code",
        "outputId": "df482fc3-424c-4f51-a34a-90a7368705fd",
        "colab": {
          "base_uri": "https://localhost:8080/",
          "height": 390
        }
      },
      "source": [
        "df.dtypes"
      ],
      "execution_count": 0,
      "outputs": [
        {
          "output_type": "execute_result",
          "data": {
            "text/plain": [
              "_unit_id                          int64\n",
              "_golden                            bool\n",
              "_unit_state                      object\n",
              "_trusted_judgments                int64\n",
              "_last_judgment_at                object\n",
              "airline_sentiment                object\n",
              "airline_sentiment:confidence    float64\n",
              "negativereason                   object\n",
              "negativereason:confidence       float64\n",
              "airline                          object\n",
              "airline_sentiment_gold           object\n",
              "name                             object\n",
              "negativereason_gold              object\n",
              "retweet_count                     int64\n",
              "text                             object\n",
              "tweet_coord                      object\n",
              "tweet_created                    object\n",
              "tweet_id                        float64\n",
              "tweet_location                   object\n",
              "user_timezone                    object\n",
              "dtype: object"
            ]
          },
          "metadata": {
            "tags": []
          },
          "execution_count": 47
        }
      ]
    },
    {
      "cell_type": "code",
      "metadata": {
        "id": "cTNHDiz8imG1",
        "colab_type": "code",
        "colab": {}
      },
      "source": [
        "colname = ['airline_sentiment', 'airline', 'retweet_count', 'text', 'tweet_created', 'tweet_location', 'user_timezone']\n",
        "df1 = df[colname]"
      ],
      "execution_count": 0,
      "outputs": []
    },
    {
      "cell_type": "code",
      "metadata": {
        "id": "PUBQ0B-Gj8pB",
        "colab_type": "code",
        "outputId": "ea29f555-abe4-4b51-a1a5-83be55bd5a6c",
        "colab": {
          "base_uri": "https://localhost:8080/",
          "height": 158
        }
      },
      "source": [
        "df1.isnull().sum()"
      ],
      "execution_count": 0,
      "outputs": [
        {
          "output_type": "execute_result",
          "data": {
            "text/plain": [
              "airline_sentiment       0\n",
              "airline                 0\n",
              "retweet_count           0\n",
              "text                    0\n",
              "tweet_created           0\n",
              "tweet_location       4733\n",
              "user_timezone        4820\n",
              "dtype: int64"
            ]
          },
          "metadata": {
            "tags": []
          },
          "execution_count": 49
        }
      ]
    },
    {
      "cell_type": "code",
      "metadata": {
        "id": "LbHOFcXeVr9f",
        "colab_type": "code",
        "colab": {}
      },
      "source": [
        "text = df.iloc[:,14].values\n",
        "labels = df.iloc[:,5].values"
      ],
      "execution_count": 0,
      "outputs": []
    },
    {
      "cell_type": "markdown",
      "metadata": {
        "id": "Smiw90kS9RBg",
        "colab_type": "text"
      },
      "source": [
        "### Explorarity data analsis"
      ]
    },
    {
      "cell_type": "code",
      "metadata": {
        "id": "yMHhhizW8eIH",
        "colab_type": "code",
        "colab": {}
      },
      "source": [
        "df['tweet_created'] = pd.to_datetime(df['tweet_created'],infer_datetime_format=True)"
      ],
      "execution_count": 0,
      "outputs": []
    },
    {
      "cell_type": "code",
      "metadata": {
        "id": "M98fI_ej9g09",
        "colab_type": "code",
        "colab": {}
      },
      "source": [
        "df['year'],df['month'] = df['tweet_created'].dt.year, df['tweet_created'].dt.month\n",
        "df['hour'] = df['tweet_created'].dt.hour\n",
        "df['Weekday'] =df['tweet_created'].dt.weekday #mon=0"
      ],
      "execution_count": 0,
      "outputs": []
    },
    {
      "cell_type": "code",
      "metadata": {
        "id": "TF4qe5xRClMk",
        "colab_type": "code",
        "outputId": "40a03315-0dcf-4a00-c2e5-0ec70581de7f",
        "colab": {
          "base_uri": "https://localhost:8080/",
          "height": 296
        }
      },
      "source": [
        "df.groupby('Weekday')['year'].agg('count').plot()"
      ],
      "execution_count": 0,
      "outputs": [
        {
          "output_type": "execute_result",
          "data": {
            "text/plain": [
              "<matplotlib.axes._subplots.AxesSubplot at 0x7ff6f43b6c18>"
            ]
          },
          "metadata": {
            "tags": []
          },
          "execution_count": 53
        },
        {
          "output_type": "display_data",
          "data": {
            "image/png": "[encoded data removed]",
            "text/plain": [
              "<Figure size 432x288 with 1 Axes>"
            ]
          },
          "metadata": {
            "tags": []
          }
        }
      ]
    },
    {
      "cell_type": "code",
      "metadata": {
        "id": "jSHpJHaxEYJ_",
        "colab_type": "code",
        "outputId": "19d0a187-dd58-4500-adfc-6e4ca1929933",
        "colab": {
          "base_uri": "https://localhost:8080/",
          "height": 296
        }
      },
      "source": [
        "df.groupby('hour')['year'].agg('count').plot()"
      ],
      "execution_count": 0,
      "outputs": [
        {
          "output_type": "execute_result",
          "data": {
            "text/plain": [
              "<matplotlib.axes._subplots.AxesSubplot at 0x7ff6f42c2be0>"
            ]
          },
          "metadata": {
            "tags": []
          },
          "execution_count": 54
        },
        {
          "output_type": "display_data",
          "data": {
            "image/png": "[encoded data removed]",
            "text/plain": [
              "<Figure size 432x288 with 1 Axes>"
            ]
          },
          "metadata": {
            "tags": []
          }
        }
      ]
    },
    {
      "cell_type": "code",
      "metadata": {
        "id": "FXY4I6jgE2Ml",
        "colab_type": "code",
        "colab": {}
      },
      "source": [
        "from sklearn.preprocessing import LabelEncoder   \n",
        "le = LabelEncoder() \n",
        "df ['sen'] = le.fit_transform(df['airline_sentiment'])\n",
        "df['sen'] = df['sen']-1 "
      ],
      "execution_count": 0,
      "outputs": []
    },
    {
      "cell_type": "code",
      "metadata": {
        "id": "tlKsEu1_E8qe",
        "colab_type": "code",
        "outputId": "94009850-6542-484d-d944-9bf5f63476d5",
        "colab": {
          "base_uri": "https://localhost:8080/",
          "height": 296
        }
      },
      "source": [
        "df.groupby('Weekday')['sen'].agg('mean').plot()\n",
        "df.groupby('hour')['sen'].agg('mean').plot()"
      ],
      "execution_count": 0,
      "outputs": [
        {
          "output_type": "execute_result",
          "data": {
            "text/plain": [
              "<matplotlib.axes._subplots.AxesSubplot at 0x7ff6f43f34a8>"
            ]
          },
          "metadata": {
            "tags": []
          },
          "execution_count": 56
        },
        {
          "output_type": "display_data",
          "data": {
            "image/png": "[encoded data removed]",
            "text/plain": [
              "<Figure size 432x288 with 1 Axes>"
            ]
          },
          "metadata": {
            "tags": []
          }
        }
      ]
    },
    {
      "cell_type": "code",
      "metadata": {
        "id": "o3-33t9FV1OI",
        "colab_type": "code",
        "colab": {}
      },
      "source": [
        "#Find the least word length directly from df\n",
        "#df['Tweet'].map(lambda x: len(x)).max()"
      ],
      "execution_count": 0,
      "outputs": []
    },
    {
      "cell_type": "code",
      "metadata": {
        "id": "rkZgmAj_vfIT",
        "colab_type": "code",
        "outputId": "d4139c44-2ff8-4141-bcae-5089ff8fbbbd",
        "colab": {
          "base_uri": "https://localhost:8080/",
          "height": 141
        }
      },
      "source": [
        "df.tweet_created.describe()"
      ],
      "execution_count": 0,
      "outputs": [
        {
          "output_type": "execute_result",
          "data": {
            "text/plain": [
              "count                   14640\n",
              "unique                   6804\n",
              "top       2015-02-23 11:50:00\n",
              "freq                       11\n",
              "first     2015-02-16 23:36:00\n",
              "last      2015-02-24 11:53:00\n",
              "Name: tweet_created, dtype: object"
            ]
          },
          "metadata": {
            "tags": []
          },
          "execution_count": 58
        }
      ]
    },
    {
      "cell_type": "code",
      "metadata": {
        "id": "HrYsQ6EZx0GV",
        "colab_type": "code",
        "outputId": "617a8f5a-196e-496f-a199-b7d3476d1ac5",
        "colab": {
          "base_uri": "https://localhost:8080/",
          "height": 52
        }
      },
      "source": [
        "df.tweet_location.unique()"
      ],
      "execution_count": 0,
      "outputs": [
        {
          "output_type": "execute_result",
          "data": {
            "text/plain": [
              "array([nan, 'Lets Play', 'San Francisco CA', ..., 'Columbus, OH, USA',\n",
              "       'Milwaukee County, Wisconsin', 'Nigeria,lagos'], dtype=object)"
            ]
          },
          "metadata": {
            "tags": []
          },
          "execution_count": 59
        }
      ]
    },
    {
      "cell_type": "markdown",
      "metadata": {
        "id": "hqxlx-Sjf1Hx",
        "colab_type": "text"
      },
      "source": [
        "## Data Prep"
      ]
    },
    {
      "cell_type": "code",
      "metadata": {
        "id": "2T9rMjvjg5io",
        "colab_type": "code",
        "outputId": "81ef9586-015a-4914-e8f2-04edb969dba7",
        "colab": {
          "base_uri": "https://localhost:8080/",
          "height": 887
        }
      },
      "source": [
        "import nltk\n",
        "import string\n",
        "from nltk.corpus import stopwords\n",
        "from textblob import TextBlob\n",
        "from nltk.tokenize import word_tokenize\n",
        "import string\n",
        "from nltk.corpus import stopwords\n",
        "from sklearn.feature_extraction.text import TfidfVectorizer\n",
        "nltk.download(\"popular\")"
      ],
      "execution_count": 0,
      "outputs": [
        {
          "output_type": "stream",
          "text": [
            "[nltk_data] Downloading collection 'popular'\n",
            "[nltk_data]    | \n",
            "[nltk_data]    | Downloading package cmudict to /root/nltk_data...\n",
            "[nltk_data]    |   Package cmudict is already up-to-date!\n",
            "[nltk_data]    | Downloading package gazetteers to /root/nltk_data...\n",
            "[nltk_data]    |   Package gazetteers is already up-to-date!\n",
            "[nltk_data]    | Downloading package genesis to /root/nltk_data...\n",
            "[nltk_data]    |   Package genesis is already up-to-date!\n",
            "[nltk_data]    | Downloading package gutenberg to /root/nltk_data...\n",
            "[nltk_data]    |   Package gutenberg is already up-to-date!\n",
            "[nltk_data]    | Downloading package inaugural to /root/nltk_data...\n",
            "[nltk_data]    |   Package inaugural is already up-to-date!\n",
            "[nltk_data]    | Downloading package movie_reviews to\n",
            "[nltk_data]    |     /root/nltk_data...\n",
            "[nltk_data]    |   Package movie_reviews is already up-to-date!\n",
            "[nltk_data]    | Downloading package names to /root/nltk_data...\n",
            "[nltk_data]    |   Package names is already up-to-date!\n",
            "[nltk_data]    | Downloading package shakespeare to /root/nltk_data...\n",
            "[nltk_data]    |   Package shakespeare is already up-to-date!\n",
            "[nltk_data]    | Downloading package stopwords to /root/nltk_data...\n",
            "[nltk_data]    |   Package stopwords is already up-to-date!\n",
            "[nltk_data]    | Downloading package treebank to /root/nltk_data...\n",
            "[nltk_data]    |   Package treebank is already up-to-date!\n",
            "[nltk_data]    | Downloading package twitter_samples to\n",
            "[nltk_data]    |     /root/nltk_data...\n",
            "[nltk_data]    |   Package twitter_samples is already up-to-date!\n",
            "[nltk_data]    | Downloading package omw to /root/nltk_data...\n",
            "[nltk_data]    |   Package omw is already up-to-date!\n",
            "[nltk_data]    | Downloading package wordnet to /root/nltk_data...\n",
            "[nltk_data]    |   Package wordnet is already up-to-date!\n",
            "[nltk_data]    | Downloading package wordnet_ic to /root/nltk_data...\n",
            "[nltk_data]    |   Package wordnet_ic is already up-to-date!\n",
            "[nltk_data]    | Downloading package words to /root/nltk_data...\n",
            "[nltk_data]    |   Package words is already up-to-date!\n",
            "[nltk_data]    | Downloading package maxent_ne_chunker to\n",
            "[nltk_data]    |     /root/nltk_data...\n",
            "[nltk_data]    |   Package maxent_ne_chunker is already up-to-date!\n",
            "[nltk_data]    | Downloading package punkt to /root/nltk_data...\n",
            "[nltk_data]    |   Package punkt is already up-to-date!\n",
            "[nltk_data]    | Downloading package snowball_data to\n",
            "[nltk_data]    |     /root/nltk_data...\n",
            "[nltk_data]    |   Package snowball_data is already up-to-date!\n",
            "[nltk_data]    | Downloading package averaged_perceptron_tagger to\n",
            "[nltk_data]    |     /root/nltk_data...\n",
            "[nltk_data]    |   Package averaged_perceptron_tagger is already up-\n",
            "[nltk_data]    |       to-date!\n",
            "[nltk_data]    | \n",
            "[nltk_data]  Done downloading collection popular\n"
          ],
          "name": "stdout"
        },
        {
          "output_type": "execute_result",
          "data": {
            "text/plain": [
              "True"
            ]
          },
          "metadata": {
            "tags": []
          },
          "execution_count": 60
        }
      ]
    },
    {
      "cell_type": "code",
      "metadata": {
        "id": "xfFsDebqfyl4",
        "colab_type": "code",
        "colab": {}
      },
      "source": [
        "# clean method 1\n",
        "processed_features = []\n",
        "\n",
        "for sentence in range(0, len(text)):\n",
        "    # Remove all hashtag\n",
        "    processed_feature = re.sub(r'@(\\w)+', ' ', str(text[sentence]))\n",
        "\n",
        "    # Converting to Lowercase\n",
        "    processed_feature = processed_feature.lower()\n",
        "\n",
        "    # Remove all the special characters\n",
        "    processed_feature = re.sub(r'\\W', ' ', processed_feature)\n",
        "\n",
        "    # remove all single characters\n",
        "    processed_feature= re.sub(r'\\s+[a-zA-Z]\\s+', ' ', processed_feature)\n",
        "\n",
        "    # Remove single characters from the start\n",
        "    processed_feature = re.sub(r'\\^[a-zA-Z]\\s+', ' ', processed_feature) \n",
        "\n",
        "    # Substituting multiple spaces with single space\n",
        "    processed_feature = re.sub(r'\\s+', ' ', processed_feature, flags=re.I)\n",
        "\n",
        "    # Removing prefixed 'b'\n",
        "    processed_feature = re.sub(r'^b\\s+', '', processed_feature)\n",
        "\n",
        "    \n",
        "\n",
        "    processed_features.append(processed_feature)"
      ],
      "execution_count": 0,
      "outputs": []
    },
    {
      "cell_type": "code",
      "metadata": {
        "id": "nctUPvrrwiSC",
        "colab_type": "code",
        "outputId": "5609ee76-0f0d-4f2c-f1c7-4095e9f7f436",
        "colab": {
          "base_uri": "https://localhost:8080/",
          "height": 34
        }
      },
      "source": [
        "text[0]"
      ],
      "execution_count": 0,
      "outputs": [
        {
          "output_type": "execute_result",
          "data": {
            "text/plain": [
              "'@VirginAmerica What @dhepburn said.'"
            ]
          },
          "metadata": {
            "tags": []
          },
          "execution_count": 62
        }
      ]
    },
    {
      "cell_type": "code",
      "metadata": {
        "id": "Q4oCukx_1te8",
        "colab_type": "code",
        "outputId": "cf153ca1-b8c3-4541-8c8d-aa591f398357",
        "colab": {
          "base_uri": "https://localhost:8080/",
          "height": 197
        }
      },
      "source": [
        "df1 = pd.DataFrame(processed_features, columns=['text'])\n",
        "df1['num'] = df1.text.apply(lambda x:len(x.split()))\n",
        "df1.head()"
      ],
      "execution_count": 0,
      "outputs": [
        {
          "output_type": "execute_result",
          "data": {
            "text/html": [
              "<div>\n",
              "<style scoped>\n",
              "    .dataframe tbody tr th:only-of-type {\n",
              "        vertical-align: middle;\n",
              "    }\n",
              "\n",
              "    .dataframe tbody tr th {\n",
              "        vertical-align: top;\n",
              "    }\n",
              "\n",
              "    .dataframe thead th {\n",
              "        text-align: right;\n",
              "    }\n",
              "</style>\n",
              "<table border=\"1\" class=\"dataframe\">\n",
              "  <thead>\n",
              "    <tr style=\"text-align: right;\">\n",
              "      <th></th>\n",
              "      <th>text</th>\n",
              "      <th>num</th>\n",
              "    </tr>\n",
              "  </thead>\n",
              "  <tbody>\n",
              "    <tr>\n",
              "      <th>0</th>\n",
              "      <td>what said</td>\n",
              "      <td>2</td>\n",
              "    </tr>\n",
              "    <tr>\n",
              "      <th>1</th>\n",
              "      <td>plus you ve added commercials to the experien...</td>\n",
              "      <td>9</td>\n",
              "    </tr>\n",
              "    <tr>\n",
              "      <th>2</th>\n",
              "      <td>didn today must mean need to take another trip</td>\n",
              "      <td>9</td>\n",
              "    </tr>\n",
              "    <tr>\n",
              "      <th>3</th>\n",
              "      <td>it really aggressive to blast obnoxious enter...</td>\n",
              "      <td>16</td>\n",
              "    </tr>\n",
              "    <tr>\n",
              "      <th>4</th>\n",
              "      <td>and it a really big bad thing about it</td>\n",
              "      <td>9</td>\n",
              "    </tr>\n",
              "  </tbody>\n",
              "</table>\n",
              "</div>"
            ],
            "text/plain": [
              "                                                text  num\n",
              "0                                         what said     2\n",
              "1   plus you ve added commercials to the experien...    9\n",
              "2    didn today must mean need to take another trip     9\n",
              "3   it really aggressive to blast obnoxious enter...   16\n",
              "4             and it a really big bad thing about it    9"
            ]
          },
          "metadata": {
            "tags": []
          },
          "execution_count": 63
        }
      ]
    },
    {
      "cell_type": "code",
      "metadata": {
        "id": "5L28tthMwstP",
        "colab_type": "code",
        "outputId": "66f6c38f-88b5-4267-bf28-1c07a532f7a4",
        "colab": {
          "base_uri": "https://localhost:8080/",
          "height": 296
        }
      },
      "source": [
        "sns.boxplot(df1.num)"
      ],
      "execution_count": 0,
      "outputs": [
        {
          "output_type": "execute_result",
          "data": {
            "text/plain": [
              "<matplotlib.axes._subplots.AxesSubplot at 0x7ff6f44475f8>"
            ]
          },
          "metadata": {
            "tags": []
          },
          "execution_count": 64
        },
        {
          "output_type": "display_data",
          "data": {
            "image/png": "[encoded data removed]",
            "text/plain": [
              "<Figure size 432x288 with 1 Axes>"
            ]
          },
          "metadata": {
            "tags": []
          }
        }
      ]
    },
    {
      "cell_type": "code",
      "metadata": {
        "id": "0fkdNI7_PPAO",
        "colab_type": "code",
        "outputId": "9cc89348-3683-4694-d4b8-330fe9d5c9dd",
        "colab": {
          "base_uri": "https://localhost:8080/",
          "height": 296
        }
      },
      "source": [
        "sns.distplot(df1.num)"
      ],
      "execution_count": 0,
      "outputs": [
        {
          "output_type": "execute_result",
          "data": {
            "text/plain": [
              "<matplotlib.axes._subplots.AxesSubplot at 0x7ff6f44258d0>"
            ]
          },
          "metadata": {
            "tags": []
          },
          "execution_count": 65
        },
        {
          "output_type": "display_data",
          "data": {
            "image/png": "[encoded data removed]",
            "text/plain": [
              "<Figure size 432x288 with 1 Axes>"
            ]
          },
          "metadata": {
            "tags": []
          }
        }
      ]
    },
    {
      "cell_type": "code",
      "metadata": {
        "id": "anabK_0Sys5t",
        "colab_type": "code",
        "outputId": "00c9d796-14e9-4713-f352-05deb7f92566",
        "colab": {
          "base_uri": "https://localhost:8080/",
          "height": 176
        }
      },
      "source": [
        "df1.num.describe()"
      ],
      "execution_count": 0,
      "outputs": [
        {
          "output_type": "execute_result",
          "data": {
            "text/plain": [
              "count    14640.000000\n",
              "mean        16.189344\n",
              "std          6.576610\n",
              "min          1.000000\n",
              "25%         11.000000\n",
              "50%         17.000000\n",
              "75%         21.000000\n",
              "max         49.000000\n",
              "Name: num, dtype: float64"
            ]
          },
          "metadata": {
            "tags": []
          },
          "execution_count": 66
        }
      ]
    },
    {
      "cell_type": "markdown",
      "metadata": {
        "id": "mHH6CnXsidaV",
        "colab_type": "text"
      },
      "source": [
        "## Data Cleaning"
      ]
    },
    {
      "cell_type": "code",
      "metadata": {
        "id": "fjL_JQkjluwh",
        "colab_type": "code",
        "colab": {}
      },
      "source": [
        "rawtext = df.text.rename('rawtext')\n",
        "df3 = pd.concat([df1,rawtext], axis =1)\n",
        "\n",
        "#neg = df3[df3.sen==-1]\n",
        "#pos = df3[df3.sen==1]"
      ],
      "execution_count": 0,
      "outputs": []
    },
    {
      "cell_type": "markdown",
      "metadata": {
        "id": "h0UN7azKgQqk",
        "colab_type": "text"
      },
      "source": [
        "def remove_links(tweet):\n",
        "  '''Takes a string and removes web links from it'''\n",
        "  tweet = re.sub(r'http\\S+', '', tweet) # remove http links\n",
        "  tweet = re.sub(r'bit.ly/\\S+', '', tweet) # rempve bitly links\n",
        "  tweet = tweet.strip('[link]') # remove [links]\n",
        "  return(tweet)"
      ]
    },
    {
      "cell_type": "code",
      "metadata": {
        "id": "FzJoiIoHild_",
        "colab_type": "code",
        "colab": {}
      },
      "source": [
        "my_stopwords = nltk.corpus.stopwords.words('english')\n",
        "word_rooter = nltk.stem.snowball.PorterStemmer(ignore_stopwords=False).stem\n",
        "my_punctuation = '!\"$%&\\'()*+,-./:;<=>?[\\\\]^_`{|}~•@ù÷ûï'\n",
        "\n",
        "# cleaning master function\n",
        "def clean_tweet(tweet, bigrams=False):\n",
        "  tweet = remove_links(tweet)\n",
        "  tweet = tweet.lower() # lower case\n",
        "  tweet = re.sub('['+my_punctuation + ']+', ' ', tweet) # strip punctuation\n",
        "  #tweet = re.sub('\\s+', ' ', tweet) #remove double spacing\n",
        "  tweet = re.sub('([0-9]+)', '', tweet) # remove numbers\n",
        "  tweet_token_list = [word for word in tweet.split(' ') if word not in my_stopwords] # remove stopwords\n",
        "\n",
        "  tweet_token_list = [word_rooter(word) if '#' not in word else word\n",
        "                      for word in tweet_token_list] # apply word rooter\n",
        "  if bigrams:\n",
        "    tweet_token_list = tweet_token_list+[tweet_token_list[i]+'_'+tweet_token_list[i+1]\n",
        "  for i in range(len(tweet_token_list)-1)]\n",
        "  tweet = ' '.join(tweet_token_list)\n",
        "  return tweet"
      ],
      "execution_count": 0,
      "outputs": []
    },
    {
      "cell_type": "markdown",
      "metadata": {
        "id": "QRPTV3qIFsDH",
        "colab_type": "text"
      },
      "source": [
        "## Sentiment Analysis"
      ]
    },
    {
      "cell_type": "code",
      "metadata": {
        "id": "4MODZtmtFvfS",
        "colab_type": "code",
        "colab": {}
      },
      "source": [
        "from textblob import TextBlob \n",
        "def detect_polarity(text):\n",
        "    return TextBlob(text).sentiment.polarity\n",
        "df1['polarity'] = df1.text.apply(detect_polarity)\n",
        "#positive: >0; neutral: =0; negative <0"
      ],
      "execution_count": 0,
      "outputs": []
    },
    {
      "cell_type": "code",
      "metadata": {
        "id": "WlCiq7fcscPn",
        "colab_type": "code",
        "colab": {}
      },
      "source": [
        "df4 = pd.DataFrame(df.text.rename('rawtext'))\n",
        "df4['cleandata'] = df4.rawtext.apply(clean_tweet)"
      ],
      "execution_count": 0,
      "outputs": []
    },
    {
      "cell_type": "code",
      "metadata": {
        "id": "LeW9xyAktInr",
        "colab_type": "code",
        "colab": {}
      },
      "source": [
        "df4 = pd.concat([df4, df.airline],axis = 1)"
      ],
      "execution_count": 0,
      "outputs": []
    },
    {
      "cell_type": "code",
      "metadata": {
        "id": "_nIEffEytYLR",
        "colab_type": "code",
        "colab": {}
      },
      "source": [
        "#try using df4, which is using new cleaning method\n",
        "df4['polarity'] = df4.rawtext.apply(detect_polarity)"
      ],
      "execution_count": 0,
      "outputs": []
    },
    {
      "cell_type": "code",
      "metadata": {
        "id": "d6IUQrjYIO06",
        "colab_type": "code",
        "outputId": "bc787f9e-b0e6-48fb-b59f-a2c0bd04659b",
        "colab": {
          "base_uri": "https://localhost:8080/",
          "height": 404
        }
      },
      "source": [
        "num_bins = 50\n",
        "plt.figure(figsize=(10,6))\n",
        "n, bins, patches = plt.hist(df1[df4.polarity!=0].polarity, num_bins, facecolor='blue', alpha=0.5)\n",
        "plt.xlabel('Polarity')\n",
        "plt.ylabel('Count')\n",
        "plt.title('Histogram of polarity')\n",
        "plt.show();"
      ],
      "execution_count": 0,
      "outputs": [
        {
          "output_type": "display_data",
          "data": {
            "image/png": "[encoded data removed]",
            "text/plain": [
              "<Figure size 720x432 with 1 Axes>"
            ]
          },
          "metadata": {
            "tags": []
          }
        }
      ]
    },
    {
      "cell_type": "code",
      "metadata": {
        "id": "mw3dlkOoIf0W",
        "colab_type": "code",
        "colab": {}
      },
      "source": [
        "def get_sentiment(polarity):\n",
        "  if polarity > 0:\n",
        "    return(1)\n",
        "  elif polarity ==0:\n",
        "    return(0)\n",
        "  else:\n",
        "    return(-1)\n",
        "#df4['sen'] = df1.polarity.apply(lambda x:get_sentiment(x))\n",
        "df3['sen'] = df1.polarity.apply(lambda x:get_sentiment(x))"
      ],
      "execution_count": 0,
      "outputs": []
    },
    {
      "cell_type": "code",
      "metadata": {
        "id": "qufnFzRfJemO",
        "colab_type": "code",
        "outputId": "37180fc7-8ba2-492c-ff8e-80033c36175d",
        "colab": {
          "base_uri": "https://localhost:8080/",
          "height": 87
        }
      },
      "source": [
        "df4.sen.value_counts()"
      ],
      "execution_count": 0,
      "outputs": [
        {
          "output_type": "execute_result",
          "data": {
            "text/plain": [
              " 0    5540\n",
              " 1    5457\n",
              "-1    3643\n",
              "Name: sen, dtype: int64"
            ]
          },
          "metadata": {
            "tags": []
          },
          "execution_count": 76
        }
      ]
    },
    {
      "cell_type": "code",
      "metadata": {
        "id": "30zV68uwKfbG",
        "colab_type": "code",
        "colab": {}
      },
      "source": [
        "air = df.airline"
      ],
      "execution_count": 0,
      "outputs": []
    },
    {
      "cell_type": "code",
      "metadata": {
        "id": "okPbkyJeKa-5",
        "colab_type": "code",
        "colab": {}
      },
      "source": [
        "df2 = pd.concat([df1,air],axis=1)"
      ],
      "execution_count": 0,
      "outputs": []
    },
    {
      "cell_type": "code",
      "metadata": {
        "id": "SsTjTlUGK397",
        "colab_type": "code",
        "outputId": "08f55565-7098-4dd3-d9b8-991ca0dbd929",
        "colab": {
          "base_uri": "https://localhost:8080/",
          "height": 387
        }
      },
      "source": [
        "import seaborn as sns\n",
        "plt.figure(figsize=(15,6))\n",
        "sns.boxenplot(x='airline', y='polarity', data=df2)\n",
        "plt.show();"
      ],
      "execution_count": 0,
      "outputs": [
        {
          "output_type": "display_data",
          "data": {
            "image/png": "[encoded data removed]",
            "text/plain": [
              "<Figure size 1080x432 with 1 Axes>"
            ]
          },
          "metadata": {
            "tags": []
          }
        }
      ]
    },
    {
      "cell_type": "code",
      "metadata": {
        "id": "TKf3LQQrQrUm",
        "colab_type": "code",
        "colab": {}
      },
      "source": [
        "#df2.to_csv(df2.csv)"
      ],
      "execution_count": 0,
      "outputs": []
    },
    {
      "cell_type": "markdown",
      "metadata": {
        "id": "JVqqpGD7dIV2",
        "colab_type": "text"
      },
      "source": [
        "### find mentioned"
      ]
    },
    {
      "cell_type": "code",
      "metadata": {
        "id": "B4DqlY36dGPR",
        "colab_type": "code",
        "colab": {}
      },
      "source": [
        "def find_mentioned(tweet):\n",
        "  '''This function will extract the twitter handles of people mentioned in the tweet'''\n",
        "  return re.findall('(?<!RT\\s)(@[A-Za-z]+[A-Za-z0-9-_]+)', tweet)"
      ],
      "execution_count": 0,
      "outputs": []
    },
    {
      "cell_type": "code",
      "metadata": {
        "id": "JcpJaHbsdOWy",
        "colab_type": "code",
        "colab": {}
      },
      "source": [
        "# Flattern the list into one column df\n",
        "#a = pd.Series(np.concatenate(df.mentioned))"
      ],
      "execution_count": 0,
      "outputs": []
    },
    {
      "cell_type": "code",
      "metadata": {
        "id": "B5WMX7uHesvn",
        "colab_type": "code",
        "colab": {}
      },
      "source": [
        "#a.value_counts().sort_index().rename_axis('x').reset_index(name='f')"
      ],
      "execution_count": 0,
      "outputs": []
    },
    {
      "cell_type": "markdown",
      "metadata": {
        "id": "Ko15hXu2QF-r",
        "colab_type": "text"
      },
      "source": [
        "### Compare to the original dataset sentiment analysis"
      ]
    },
    {
      "cell_type": "code",
      "metadata": {
        "id": "MWYWkTY1Nkp5",
        "colab_type": "code",
        "colab": {}
      },
      "source": [
        "sent = df.airline_sentiment.replace({'positive':1,\n",
        "                              'neutral':0,\n",
        "                              'negative':-1})"
      ],
      "execution_count": 0,
      "outputs": []
    },
    {
      "cell_type": "code",
      "metadata": {
        "id": "mqz5HuquNcxt",
        "colab_type": "code",
        "colab": {}
      },
      "source": [
        "#sent = df.airline_sentiment\n",
        "df3 = pd.concat([df1,sent],axis=1)"
      ],
      "execution_count": 0,
      "outputs": []
    },
    {
      "cell_type": "code",
      "metadata": {
        "id": "m89YqoouO92f",
        "colab_type": "code",
        "outputId": "719603af-91d7-42bf-cbbd-992cc1f0a078",
        "colab": {
          "base_uri": "https://localhost:8080/",
          "height": 296
        }
      },
      "source": [
        "sns.scatterplot(x='polarity', y='airline_sentiment', data= df3)"
      ],
      "execution_count": 0,
      "outputs": [
        {
          "output_type": "execute_result",
          "data": {
            "text/plain": [
              "<matplotlib.axes._subplots.AxesSubplot at 0x7ff6f4425128>"
            ]
          },
          "metadata": {
            "tags": []
          },
          "execution_count": 88
        },
        {
          "output_type": "display_data",
          "data": {
            "image/png": "[encoded data removed]",
            "text/plain": [
              "<Figure size 432x288 with 1 Axes>"
            ]
          },
          "metadata": {
            "tags": []
          }
        }
      ]
    },
    {
      "cell_type": "code",
      "metadata": {
        "id": "TFp4QuLAVCGk",
        "colab_type": "code",
        "outputId": "05ae84ab-ca71-4d86-c7c0-e70fed29b72d",
        "colab": {
          "base_uri": "https://localhost:8080/",
          "height": 197
        }
      },
      "source": [
        "df3.head()"
      ],
      "execution_count": 0,
      "outputs": [
        {
          "output_type": "execute_result",
          "data": {
            "text/html": [
              "<div>\n",
              "<style scoped>\n",
              "    .dataframe tbody tr th:only-of-type {\n",
              "        vertical-align: middle;\n",
              "    }\n",
              "\n",
              "    .dataframe tbody tr th {\n",
              "        vertical-align: top;\n",
              "    }\n",
              "\n",
              "    .dataframe thead th {\n",
              "        text-align: right;\n",
              "    }\n",
              "</style>\n",
              "<table border=\"1\" class=\"dataframe\">\n",
              "  <thead>\n",
              "    <tr style=\"text-align: right;\">\n",
              "      <th></th>\n",
              "      <th>text</th>\n",
              "      <th>num</th>\n",
              "      <th>polarity</th>\n",
              "      <th>airline_sentiment</th>\n",
              "    </tr>\n",
              "  </thead>\n",
              "  <tbody>\n",
              "    <tr>\n",
              "      <th>0</th>\n",
              "      <td>what said</td>\n",
              "      <td>2</td>\n",
              "      <td>0.00000</td>\n",
              "      <td>0</td>\n",
              "    </tr>\n",
              "    <tr>\n",
              "      <th>1</th>\n",
              "      <td>plus you ve added commercials to the experien...</td>\n",
              "      <td>9</td>\n",
              "      <td>0.00000</td>\n",
              "      <td>1</td>\n",
              "    </tr>\n",
              "    <tr>\n",
              "      <th>2</th>\n",
              "      <td>didn today must mean need to take another trip</td>\n",
              "      <td>9</td>\n",
              "      <td>-0.31250</td>\n",
              "      <td>0</td>\n",
              "    </tr>\n",
              "    <tr>\n",
              "      <th>3</th>\n",
              "      <td>it really aggressive to blast obnoxious enter...</td>\n",
              "      <td>16</td>\n",
              "      <td>0.00625</td>\n",
              "      <td>-1</td>\n",
              "    </tr>\n",
              "    <tr>\n",
              "      <th>4</th>\n",
              "      <td>and it a really big bad thing about it</td>\n",
              "      <td>9</td>\n",
              "      <td>-0.35000</td>\n",
              "      <td>-1</td>\n",
              "    </tr>\n",
              "  </tbody>\n",
              "</table>\n",
              "</div>"
            ],
            "text/plain": [
              "                                                text  ...  airline_sentiment\n",
              "0                                         what said   ...                  0\n",
              "1   plus you ve added commercials to the experien...  ...                  1\n",
              "2    didn today must mean need to take another trip   ...                  0\n",
              "3   it really aggressive to blast obnoxious enter...  ...                 -1\n",
              "4             and it a really big bad thing about it  ...                 -1\n",
              "\n",
              "[5 rows x 4 columns]"
            ]
          },
          "metadata": {
            "tags": []
          },
          "execution_count": 92
        }
      ]
    },
    {
      "cell_type": "markdown",
      "metadata": {
        "id": "w-iW47F16zEL",
        "colab_type": "text"
      },
      "source": [
        "## TFIDF"
      ]
    },
    {
      "cell_type": "code",
      "metadata": {
        "id": "ChtaMncZfzdJ",
        "colab_type": "code",
        "colab": {}
      },
      "source": [
        "#max_features=500: 500 most frequently occurring words to create a bag of words \n",
        "#TfidfVectorizer: class that can be used to convert text features into TF-IDF feature vectors.\n",
        "#not sure if this should be applied cause it will devide by the overall text \n",
        "vectorizer = TfidfVectorizer (max_features=21, min_df=3)\n",
        "processed_features_0 = vectorizer.fit_transform(processed_features).toarray()"
      ],
      "execution_count": 0,
      "outputs": []
    },
    {
      "cell_type": "code",
      "metadata": {
        "id": "xtD1H5S7zmOP",
        "colab_type": "code",
        "colab": {}
      },
      "source": [
        "df2 = pd.DataFrame(processed_features_0)\n",
        "df2.head()"
      ],
      "execution_count": 0,
      "outputs": []
    },
    {
      "cell_type": "code",
      "metadata": {
        "id": "DkbFVrFR0Aap",
        "colab_type": "code",
        "colab": {}
      },
      "source": [
        "len(np.where(~processed_features_0.any(axis=1))[0])"
      ],
      "execution_count": 0,
      "outputs": []
    },
    {
      "cell_type": "code",
      "metadata": {
        "id": "Q-RZe1AXhgD_",
        "colab_type": "code",
        "colab": {}
      },
      "source": [
        "from sklearn.model_selection import train_test_split\n",
        "\n",
        "X_train, X_test, y_train, y_test = train_test_split(processed_features, labels, test_size=0.2, random_state=0)"
      ],
      "execution_count": 0,
      "outputs": []
    },
    {
      "cell_type": "markdown",
      "metadata": {
        "id": "D1MiFQL8hD6s",
        "colab_type": "text"
      },
      "source": [
        "## Train RandomForest Models 75%"
      ]
    },
    {
      "cell_type": "code",
      "metadata": {
        "id": "WbxIE8GVhDQB",
        "colab_type": "code",
        "colab": {}
      },
      "source": [
        "from sklearn.ensemble import RandomForestClassifier\n",
        "\n",
        "text_classifier = RandomForestClassifier(n_estimators=200, random_state=0)\n",
        "text_classifier.fit(X_train, y_train)"
      ],
      "execution_count": 0,
      "outputs": []
    },
    {
      "cell_type": "code",
      "metadata": {
        "id": "CC5isrR_g9-O",
        "colab_type": "code",
        "colab": {}
      },
      "source": [
        "predictions = text_classifier.predict(X_test)"
      ],
      "execution_count": 0,
      "outputs": []
    },
    {
      "cell_type": "code",
      "metadata": {
        "id": "zpTEHkLJiqOI",
        "colab_type": "code",
        "colab": {}
      },
      "source": [
        "from sklearn.metrics import classification_report, confusion_matrix, accuracy_score\n",
        "\n",
        "print(confusion_matrix(y_test,predictions))\n",
        "print(classification_report(y_test,predictions))\n",
        "print(accuracy_score(y_test, predictions))"
      ],
      "execution_count": 0,
      "outputs": []
    },
    {
      "cell_type": "code",
      "metadata": {
        "id": "whuOipmzGaEj",
        "colab_type": "code",
        "colab": {}
      },
      "source": [
        "#Logistic Model\n",
        "from sklearn.linear_model import LogisticRegression\n",
        "from sklearn.metrics import accuracy_score\n",
        "\n",
        "for c in [0.01, 0.05, 0.25, 0.5, 1]:\n",
        "    \n",
        "    lr = LogisticRegression(C=c)\n",
        "    lr.fit(X_train, y_train)\n",
        "    print (\"Accuracy for C=%s: %s\" \n",
        "           % (c, accuracy_score(y_test, lr.predict(X_test))))"
      ],
      "execution_count": 0,
      "outputs": []
    },
    {
      "cell_type": "code",
      "metadata": {
        "id": "oha96blTHqZA",
        "colab_type": "code",
        "colab": {}
      },
      "source": [
        "#XGBoosting\n",
        "from xgboost import XGBClassifier\n",
        "\n",
        "clf = XGBClassifier()\n",
        "clf.fit(X_train, y_train)"
      ],
      "execution_count": 0,
      "outputs": []
    },
    {
      "cell_type": "code",
      "metadata": {
        "id": "-jZJRAiHJCsl",
        "colab_type": "code",
        "colab": {}
      },
      "source": [
        "# make predictions for test data\n",
        "y_pred = clf.predict(X_test)\n",
        "#predictions = [round(value) for value in y_pred]\n",
        "# evaluate predictions\n",
        "accuracy = accuracy_score(y_test, y_pred)\n",
        "print(\"Accuracy: %.2f%%\" % (accuracy * 100.0))"
      ],
      "execution_count": 0,
      "outputs": []
    },
    {
      "cell_type": "code",
      "metadata": {
        "id": "X4rD-94_LBYM",
        "colab_type": "code",
        "colab": {}
      },
      "source": [
        "print(confusion_matrix(y_test,y_pred))\n",
        "print(classification_report(y_test,y_pred))\n",
        "print(accuracy_score(y_test, y_pred))"
      ],
      "execution_count": 0,
      "outputs": []
    },
    {
      "cell_type": "markdown",
      "metadata": {
        "id": "d7aCmRVVrTfw",
        "colab_type": "text"
      },
      "source": [
        "## Text Clustering"
      ]
    },
    {
      "cell_type": "markdown",
      "metadata": {
        "id": "zM36NMQFfhM-",
        "colab_type": "text"
      },
      "source": [
        "### neg topics"
      ]
    },
    {
      "cell_type": "code",
      "metadata": {
        "id": "kSp5woYDWH7E",
        "colab_type": "code",
        "colab": {}
      },
      "source": [
        "neg = df3[df3.sen==-1]\n",
        "pos = df3[df3.sen==1]"
      ],
      "execution_count": 0,
      "outputs": []
    },
    {
      "cell_type": "code",
      "metadata": {
        "id": "yW8kCve4XH0Y",
        "colab_type": "code",
        "outputId": "b1bf712e-3ec3-4d64-f0b0-0dce0b1e198f",
        "colab": {
          "base_uri": "https://localhost:8080/",
          "height": 231
        }
      },
      "source": [
        "neg.head()"
      ],
      "execution_count": 0,
      "outputs": [
        {
          "output_type": "execute_result",
          "data": {
            "text/html": [
              "<div>\n",
              "<style scoped>\n",
              "    .dataframe tbody tr th:only-of-type {\n",
              "        vertical-align: middle;\n",
              "    }\n",
              "\n",
              "    .dataframe tbody tr th {\n",
              "        vertical-align: top;\n",
              "    }\n",
              "\n",
              "    .dataframe thead th {\n",
              "        text-align: right;\n",
              "    }\n",
              "</style>\n",
              "<table border=\"1\" class=\"dataframe\">\n",
              "  <thead>\n",
              "    <tr style=\"text-align: right;\">\n",
              "      <th></th>\n",
              "      <th>text</th>\n",
              "      <th>num</th>\n",
              "      <th>polarity</th>\n",
              "      <th>rawtext</th>\n",
              "      <th>sen</th>\n",
              "      <th>clean_tweet</th>\n",
              "    </tr>\n",
              "  </thead>\n",
              "  <tbody>\n",
              "    <tr>\n",
              "      <th>2</th>\n",
              "      <td>didn today must mean need to take another trip</td>\n",
              "      <td>9</td>\n",
              "      <td>-0.312500</td>\n",
              "      <td>@VirginAmerica I didn't today... Must mean I n...</td>\n",
              "      <td>-1</td>\n",
              "      <td>virginamerica today  must mean need take anot...</td>\n",
              "    </tr>\n",
              "    <tr>\n",
              "      <th>4</th>\n",
              "      <td>and it a really big bad thing about it</td>\n",
              "      <td>9</td>\n",
              "      <td>-0.350000</td>\n",
              "      <td>@VirginAmerica and it's a really big bad thing...</td>\n",
              "      <td>-1</td>\n",
              "      <td>virginamerica realli big bad thing</td>\n",
              "    </tr>\n",
              "    <tr>\n",
              "      <th>5</th>\n",
              "      <td>seriously would pay 30 flight for seats that ...</td>\n",
              "      <td>21</td>\n",
              "      <td>-0.208333</td>\n",
              "      <td>@VirginAmerica seriously would pay $30 a fligh...</td>\n",
              "      <td>-1</td>\n",
              "      <td>virginamerica serious would pay   flight seat...</td>\n",
              "    </tr>\n",
              "    <tr>\n",
              "      <th>26</th>\n",
              "      <td>what happened 2 ur vegan food options at leas...</td>\n",
              "      <td>26</td>\n",
              "      <td>-0.075000</td>\n",
              "      <td>@VirginAmerica What happened 2 ur vegan food o...</td>\n",
              "      <td>-1</td>\n",
              "      <td>virginamerica happen  ur vegan food option  l...</td>\n",
              "    </tr>\n",
              "    <tr>\n",
              "      <th>32</th>\n",
              "      <td>help left expensive headphones on flight 89 i...</td>\n",
              "      <td>20</td>\n",
              "      <td>-0.250000</td>\n",
              "      <td>@VirginAmerica help, left expensive headphones...</td>\n",
              "      <td>-1</td>\n",
              "      <td>virginamerica help  left expens headphon flig...</td>\n",
              "    </tr>\n",
              "  </tbody>\n",
              "</table>\n",
              "</div>"
            ],
            "text/plain": [
              "                                                 text  ...                                        clean_tweet\n",
              "2     didn today must mean need to take another trip   ...   virginamerica today  must mean need take anot...\n",
              "4              and it a really big bad thing about it  ...                 virginamerica realli big bad thing\n",
              "5    seriously would pay 30 flight for seats that ...  ...   virginamerica serious would pay   flight seat...\n",
              "26   what happened 2 ur vegan food options at leas...  ...   virginamerica happen  ur vegan food option  l...\n",
              "32   help left expensive headphones on flight 89 i...  ...   virginamerica help  left expens headphon flig...\n",
              "\n",
              "[5 rows x 6 columns]"
            ]
          },
          "metadata": {
            "tags": []
          },
          "execution_count": 120
        }
      ]
    },
    {
      "cell_type": "code",
      "metadata": {
        "id": "WtcqZAZWf-Z7",
        "colab_type": "code",
        "colab": {}
      },
      "source": [
        "def display_topics(model, feature_names, no_top_words):\n",
        "  topic_dict = {}\n",
        "  for topic_idx, topic in enumerate(model.components_):\n",
        "    topic_dict[\"Topic %d words\" % (topic_idx)]= ['{}'.format(feature_names[i])\n",
        "    for i in topic.argsort()[:-no_top_words - 1:-1]]\n",
        "    topic_dict[\"Topic %d weights\" % (topic_idx)]= ['{:.1f}'.format(topic[i])\n",
        "    for i in topic.argsort()[:-no_top_words - 1:-1]]\n",
        "  return pd.DataFrame(topic_dict)"
      ],
      "execution_count": 0,
      "outputs": []
    },
    {
      "cell_type": "code",
      "metadata": {
        "id": "Y-0hVMSEfnuH",
        "colab_type": "code",
        "outputId": "f4d3e84c-682e-4dd9-d256-e56758c11aad",
        "colab": {
          "base_uri": "https://localhost:8080/",
          "height": 123
        }
      },
      "source": [
        "neg['clean_tweet'] = neg.rawtext.apply(clean_tweet)\n",
        "from sklearn.feature_extraction.text import CountVectorizer\n",
        "\n",
        "# the vectorizer object will be used to transform text to vector form\n",
        "vectorizer = CountVectorizer(max_df=0.9, min_df=25, token_pattern='\\w+|\\$[\\d\\.]+|\\S+')\n",
        "# apply transformation\n",
        "tf = vectorizer.fit_transform(neg['clean_tweet']).toarray()\n",
        "\n",
        "# tf_feature_names tells us what word each column in the matric represents\n",
        "tf_feature_names = vectorizer.get_feature_names()"
      ],
      "execution_count": 0,
      "outputs": [
        {
          "output_type": "stream",
          "text": [
            "/usr/local/lib/python3.6/dist-packages/ipykernel_launcher.py:1: SettingWithCopyWarning: \n",
            "A value is trying to be set on a copy of a slice from a DataFrame.\n",
            "Try using .loc[row_indexer,col_indexer] = value instead\n",
            "\n",
            "See the caveats in the documentation: http://pandas.pydata.org/pandas-docs/stable/user_guide/indexing.html#returning-a-view-versus-a-copy\n",
            "  \"\"\"Entry point for launching an IPython kernel.\n"
          ],
          "name": "stderr"
        }
      ]
    },
    {
      "cell_type": "code",
      "metadata": {
        "id": "JOqdluwLfybT",
        "colab_type": "code",
        "outputId": "78a4b260-194f-4d1f-bc55-3268b9fd8edc",
        "colab": {
          "base_uri": "https://localhost:8080/",
          "height": 141
        }
      },
      "source": [
        "from sklearn.decomposition import LatentDirichletAllocation\n",
        "\n",
        "number_of_topics = 5\n",
        "\n",
        "model = LatentDirichletAllocation(n_components=number_of_topics, random_state=0)\n",
        "model.fit(tf)"
      ],
      "execution_count": 0,
      "outputs": [
        {
          "output_type": "execute_result",
          "data": {
            "text/plain": [
              "LatentDirichletAllocation(batch_size=128, doc_topic_prior=None,\n",
              "                          evaluate_every=-1, learning_decay=0.7,\n",
              "                          learning_method='batch', learning_offset=10.0,\n",
              "                          max_doc_update_iter=100, max_iter=10,\n",
              "                          mean_change_tol=0.001, n_components=5, n_jobs=None,\n",
              "                          perp_tol=0.1, random_state=0, topic_word_prior=None,\n",
              "                          total_samples=1000000.0, verbose=0)"
            ]
          },
          "metadata": {
            "tags": []
          },
          "execution_count": 115
        }
      ]
    },
    {
      "cell_type": "code",
      "metadata": {
        "id": "Hr3c_VH9gMyO",
        "colab_type": "code",
        "outputId": "1a1346a7-4f99-4858-8f7f-b94b31e6adeb",
        "colab": {
          "base_uri": "https://localhost:8080/",
          "height": 364
        }
      },
      "source": [
        "no_top_words = 10\n",
        "display_topics(model, tf_feature_names, no_top_words)"
      ],
      "execution_count": 0,
      "outputs": [
        {
          "output_type": "execute_result",
          "data": {
            "text/html": [
              "<div>\n",
              "<style scoped>\n",
              "    .dataframe tbody tr th:only-of-type {\n",
              "        vertical-align: middle;\n",
              "    }\n",
              "\n",
              "    .dataframe tbody tr th {\n",
              "        vertical-align: top;\n",
              "    }\n",
              "\n",
              "    .dataframe thead th {\n",
              "        text-align: right;\n",
              "    }\n",
              "</style>\n",
              "<table border=\"1\" class=\"dataframe\">\n",
              "  <thead>\n",
              "    <tr style=\"text-align: right;\">\n",
              "      <th></th>\n",
              "      <th>Topic 0 words</th>\n",
              "      <th>Topic 0 weights</th>\n",
              "      <th>Topic 1 words</th>\n",
              "      <th>Topic 1 weights</th>\n",
              "      <th>Topic 2 words</th>\n",
              "      <th>Topic 2 weights</th>\n",
              "      <th>Topic 3 words</th>\n",
              "      <th>Topic 3 weights</th>\n",
              "      <th>Topic 4 words</th>\n",
              "      <th>Topic 4 weights</th>\n",
              "    </tr>\n",
              "  </thead>\n",
              "  <tbody>\n",
              "    <tr>\n",
              "      <th>0</th>\n",
              "      <td>usairway</td>\n",
              "      <td>492.9</td>\n",
              "      <td>flight</td>\n",
              "      <td>1193.2</td>\n",
              "      <td>unit</td>\n",
              "      <td>274.5</td>\n",
              "      <td>servic</td>\n",
              "      <td>420.2</td>\n",
              "      <td>unit</td>\n",
              "      <td>636.9</td>\n",
              "    </tr>\n",
              "    <tr>\n",
              "      <th>1</th>\n",
              "      <td>call</td>\n",
              "      <td>217.1</td>\n",
              "      <td>cancel</td>\n",
              "      <td>311.2</td>\n",
              "      <td>flight</td>\n",
              "      <td>261.8</td>\n",
              "      <td>custom</td>\n",
              "      <td>367.2</td>\n",
              "      <td>airlin</td>\n",
              "      <td>211.4</td>\n",
              "    </tr>\n",
              "    <tr>\n",
              "      <th>2</th>\n",
              "      <td>hold</td>\n",
              "      <td>179.0</td>\n",
              "      <td>usairway</td>\n",
              "      <td>260.2</td>\n",
              "      <td>jetblu</td>\n",
              "      <td>185.2</td>\n",
              "      <td>americanair</td>\n",
              "      <td>314.5</td>\n",
              "      <td>worst</td>\n",
              "      <td>162.8</td>\n",
              "    </tr>\n",
              "    <tr>\n",
              "      <th>3</th>\n",
              "      <td>americanair</td>\n",
              "      <td>155.7</td>\n",
              "      <td>delay</td>\n",
              "      <td>232.3</td>\n",
              "      <td>southwestair</td>\n",
              "      <td>177.3</td>\n",
              "      <td>unit</td>\n",
              "      <td>167.2</td>\n",
              "      <td>bag</td>\n",
              "      <td>149.4</td>\n",
              "    </tr>\n",
              "    <tr>\n",
              "      <th>4</th>\n",
              "      <td>tri</td>\n",
              "      <td>151.1</td>\n",
              "      <td>americanair</td>\n",
              "      <td>176.2</td>\n",
              "      <td>still</td>\n",
              "      <td>176.0</td>\n",
              "      <td>usairway</td>\n",
              "      <td>164.1</td>\n",
              "      <td>fli</td>\n",
              "      <td>145.2</td>\n",
              "    </tr>\n",
              "    <tr>\n",
              "      <th>5</th>\n",
              "      <td>hour</td>\n",
              "      <td>142.0</td>\n",
              "      <td>hour</td>\n",
              "      <td>165.4</td>\n",
              "      <td>late</td>\n",
              "      <td>169.9</td>\n",
              "      <td>rude</td>\n",
              "      <td>108.0</td>\n",
              "      <td>check</td>\n",
              "      <td>96.7</td>\n",
              "    </tr>\n",
              "    <tr>\n",
              "      <th>6</th>\n",
              "      <td>wait</td>\n",
              "      <td>135.5</td>\n",
              "      <td>late</td>\n",
              "      <td>149.5</td>\n",
              "      <td>hour</td>\n",
              "      <td>150.1</td>\n",
              "      <td>ticket</td>\n",
              "      <td>102.6</td>\n",
              "      <td>ever</td>\n",
              "      <td>93.1</td>\n",
              "    </tr>\n",
              "    <tr>\n",
              "      <th>7</th>\n",
              "      <td>get</td>\n",
              "      <td>123.6</td>\n",
              "      <td>flightl</td>\n",
              "      <td>147.2</td>\n",
              "      <td>seat</td>\n",
              "      <td>112.5</td>\n",
              "      <td>terribl</td>\n",
              "      <td>99.0</td>\n",
              "      <td>americanair</td>\n",
              "      <td>92.4</td>\n",
              "    </tr>\n",
              "    <tr>\n",
              "      <th>8</th>\n",
              "      <td>time</td>\n",
              "      <td>108.5</td>\n",
              "      <td>due</td>\n",
              "      <td>143.4</td>\n",
              "      <td>delay</td>\n",
              "      <td>110.1</td>\n",
              "      <td>southwestair</td>\n",
              "      <td>76.5</td>\n",
              "      <td>never</td>\n",
              "      <td>90.9</td>\n",
              "    </tr>\n",
              "    <tr>\n",
              "      <th>9</th>\n",
              "      <td>help</td>\n",
              "      <td>106.8</td>\n",
              "      <td>plane</td>\n",
              "      <td>127.5</td>\n",
              "      <td>flightr</td>\n",
              "      <td>108.0</td>\n",
              "      <td>get</td>\n",
              "      <td>69.1</td>\n",
              "      <td>time</td>\n",
              "      <td>78.8</td>\n",
              "    </tr>\n",
              "  </tbody>\n",
              "</table>\n",
              "</div>"
            ],
            "text/plain": [
              "  Topic 0 words Topic 0 weights  ... Topic 4 words Topic 4 weights\n",
              "0      usairway           492.9  ...          unit           636.9\n",
              "1          call           217.1  ...        airlin           211.4\n",
              "2          hold           179.0  ...         worst           162.8\n",
              "3   americanair           155.7  ...           bag           149.4\n",
              "4           tri           151.1  ...           fli           145.2\n",
              "5          hour           142.0  ...         check            96.7\n",
              "6          wait           135.5  ...          ever            93.1\n",
              "7           get           123.6  ...   americanair            92.4\n",
              "8          time           108.5  ...         never            90.9\n",
              "9          help           106.8  ...          time            78.8\n",
              "\n",
              "[10 rows x 10 columns]"
            ]
          },
          "metadata": {
            "tags": []
          },
          "execution_count": 116
        }
      ]
    },
    {
      "cell_type": "code",
      "metadata": {
        "id": "AIcH3sfMh9_A",
        "colab_type": "code",
        "outputId": "4548c5d8-50dc-4f2a-a1ec-29d66641312e",
        "colab": {
          "base_uri": "https://localhost:8080/",
          "height": 456
        }
      },
      "source": [
        "neg[neg.clean_tweet.str.contains('flight cancel|delay')]"
      ],
      "execution_count": 0,
      "outputs": [
        {
          "output_type": "execute_result",
          "data": {
            "text/html": [
              "<div>\n",
              "<style scoped>\n",
              "    .dataframe tbody tr th:only-of-type {\n",
              "        vertical-align: middle;\n",
              "    }\n",
              "\n",
              "    .dataframe tbody tr th {\n",
              "        vertical-align: top;\n",
              "    }\n",
              "\n",
              "    .dataframe thead th {\n",
              "        text-align: right;\n",
              "    }\n",
              "</style>\n",
              "<table border=\"1\" class=\"dataframe\">\n",
              "  <thead>\n",
              "    <tr style=\"text-align: right;\">\n",
              "      <th></th>\n",
              "      <th>text</th>\n",
              "      <th>num</th>\n",
              "      <th>polarity</th>\n",
              "      <th>rawtext</th>\n",
              "      <th>sen</th>\n",
              "      <th>clean_tweet</th>\n",
              "    </tr>\n",
              "  </thead>\n",
              "  <tbody>\n",
              "    <tr>\n",
              "      <th>122</th>\n",
              "      <td>like the customer service but 40 min delay ju...</td>\n",
              "      <td>16</td>\n",
              "      <td>-0.050000</td>\n",
              "      <td>@VirginAmerica I like the customer service but...</td>\n",
              "      <td>-1</td>\n",
              "      <td>virginamerica like custom servic  min delay c...</td>\n",
              "    </tr>\n",
              "    <tr>\n",
              "      <th>198</th>\n",
              "      <td>you stink flight cancelled flighted from psp ...</td>\n",
              "      <td>19</td>\n",
              "      <td>-0.116667</td>\n",
              "      <td>@VirginAmerica you stink. Flight Cancelled Fli...</td>\n",
              "      <td>-1</td>\n",
              "      <td>virginamerica stink  flight cancel flight psp...</td>\n",
              "    </tr>\n",
              "    <tr>\n",
              "      <th>218</th>\n",
              "      <td>why cancelled flight flight vx413 one sec its...</td>\n",
              "      <td>25</td>\n",
              "      <td>-0.050000</td>\n",
              "      <td>@VirginAmerica why Cancelled Flight flight VX4...</td>\n",
              "      <td>-1</td>\n",
              "      <td>virginamerica cancel flight flight vx  one se...</td>\n",
              "    </tr>\n",
              "    <tr>\n",
              "      <th>299</th>\n",
              "      <td>weather delays gt next few weeks jfk bos dca</td>\n",
              "      <td>9</td>\n",
              "      <td>-0.100000</td>\n",
              "      <td>@VirginAmerica weather delays &amp;gt; next few we...</td>\n",
              "      <td>-1</td>\n",
              "      <td>virginamerica weather delay  gt  next week   ...</td>\n",
              "    </tr>\n",
              "    <tr>\n",
              "      <th>495</th>\n",
              "      <td>my flight 6000 scheduled for 1pm departure st...</td>\n",
              "      <td>23</td>\n",
              "      <td>-0.050000</td>\n",
              "      <td>@VirginAmerica my flight (6000) scheduled for ...</td>\n",
              "      <td>-1</td>\n",
              "      <td>virginamerica flight    schedul pm departur s...</td>\n",
              "    </tr>\n",
              "    <tr>\n",
              "      <th>...</th>\n",
              "      <td>...</td>\n",
              "      <td>...</td>\n",
              "      <td>...</td>\n",
              "      <td>...</td>\n",
              "      <td>...</td>\n",
              "      <td>...</td>\n",
              "    </tr>\n",
              "    <tr>\n",
              "      <th>14361</th>\n",
              "      <td>no one answers phone delayed cancelled flight...</td>\n",
              "      <td>21</td>\n",
              "      <td>-0.375000</td>\n",
              "      <td>@AmericanAir \\nNo one answers phone, delayed/C...</td>\n",
              "      <td>-1</td>\n",
              "      <td>americanair \\nno one answer phone  delay canc...</td>\n",
              "    </tr>\n",
              "    <tr>\n",
              "      <th>14401</th>\n",
              "      <td>worst airline ever we have been stranded for ...</td>\n",
              "      <td>21</td>\n",
              "      <td>-0.500000</td>\n",
              "      <td>@AmericanAir Worst airline ever. We have been ...</td>\n",
              "      <td>-1</td>\n",
              "      <td>americanair worst airlin ever  strand  hour  ...</td>\n",
              "    </tr>\n",
              "    <tr>\n",
              "      <th>14485</th>\n",
              "      <td>flight cancelled flighted out of lax for tomo...</td>\n",
              "      <td>23</td>\n",
              "      <td>-0.125000</td>\n",
              "      <td>@AmericanAir flight Cancelled Flighted out of ...</td>\n",
              "      <td>-1</td>\n",
              "      <td>americanair flight cancel flight lax tomorrow...</td>\n",
              "    </tr>\n",
              "    <tr>\n",
              "      <th>14535</th>\n",
              "      <td>flight cancelled flighted and rebooked but ag...</td>\n",
              "      <td>22</td>\n",
              "      <td>-0.500000</td>\n",
              "      <td>@AmericanAir Flight Cancelled Flighted and reb...</td>\n",
              "      <td>-1</td>\n",
              "      <td>americanair flight cancel flight rebook agent...</td>\n",
              "    </tr>\n",
              "    <tr>\n",
              "      <th>14597</th>\n",
              "      <td>do you dislike delays when they re caused by ...</td>\n",
              "      <td>23</td>\n",
              "      <td>-0.250000</td>\n",
              "      <td>@AmericanAir @Stone9956 Do you dislike delays ...</td>\n",
              "      <td>-1</td>\n",
              "      <td>americanair  stone dislik delay caus crew for...</td>\n",
              "    </tr>\n",
              "  </tbody>\n",
              "</table>\n",
              "<p>431 rows × 6 columns</p>\n",
              "</div>"
            ],
            "text/plain": [
              "                                                    text  ...                                        clean_tweet\n",
              "122     like the customer service but 40 min delay ju...  ...   virginamerica like custom servic  min delay c...\n",
              "198     you stink flight cancelled flighted from psp ...  ...   virginamerica stink  flight cancel flight psp...\n",
              "218     why cancelled flight flight vx413 one sec its...  ...   virginamerica cancel flight flight vx  one se...\n",
              "299         weather delays gt next few weeks jfk bos dca  ...   virginamerica weather delay  gt  next week   ...\n",
              "495     my flight 6000 scheduled for 1pm departure st...  ...   virginamerica flight    schedul pm departur s...\n",
              "...                                                  ...  ...                                                ...\n",
              "14361   no one answers phone delayed cancelled flight...  ...   americanair \\nno one answer phone  delay canc...\n",
              "14401   worst airline ever we have been stranded for ...  ...   americanair worst airlin ever  strand  hour  ...\n",
              "14485   flight cancelled flighted out of lax for tomo...  ...   americanair flight cancel flight lax tomorrow...\n",
              "14535   flight cancelled flighted and rebooked but ag...  ...   americanair flight cancel flight rebook agent...\n",
              "14597   do you dislike delays when they re caused by ...  ...   americanair  stone dislik delay caus crew for...\n",
              "\n",
              "[431 rows x 6 columns]"
            ]
          },
          "metadata": {
            "tags": []
          },
          "execution_count": 178
        }
      ]
    },
    {
      "cell_type": "code",
      "metadata": {
        "id": "Bj-2Xr4MiOwW",
        "colab_type": "code",
        "outputId": "1455f088-02ce-4dce-ea39-25e1c4fcb497",
        "colab": {
          "base_uri": "https://localhost:8080/",
          "height": 34
        }
      },
      "source": [
        "neg.loc[14597].text"
      ],
      "execution_count": 0,
      "outputs": [
        {
          "output_type": "execute_result",
          "data": {
            "text/plain": [
              "' do you dislike delays when they re caused by your crew forgetting to load bags amp lazy pilot wanting duty day to end '"
            ]
          },
          "metadata": {
            "tags": []
          },
          "execution_count": 180
        }
      ]
    },
    {
      "cell_type": "code",
      "metadata": {
        "id": "PWA2Si9riGXE",
        "colab_type": "code",
        "colab": {}
      },
      "source": [
        ""
      ],
      "execution_count": 0,
      "outputs": []
    },
    {
      "cell_type": "markdown",
      "metadata": {
        "id": "pYSTG7Ttnko7",
        "colab_type": "text"
      },
      "source": [
        "### positive topics"
      ]
    },
    {
      "cell_type": "code",
      "metadata": {
        "id": "AQLdCMKOoUQg",
        "colab_type": "code",
        "outputId": "1b4349c2-9a64-4452-d828-66e3e460e5b7",
        "colab": {
          "base_uri": "https://localhost:8080/",
          "height": 247
        }
      },
      "source": [
        "pos['clean_tweet'] = pos.rawtext.apply(clean_tweet)\n",
        "vectorizer = CountVectorizer(max_df=0.9, min_df=25, token_pattern='\\w+|\\$[\\d\\.]+|\\S+')\n",
        "tf_p = vectorizer.fit_transform(pos['clean_tweet']).toarray()\n",
        "tf_feature_names_p = vectorizer.get_feature_names()\n",
        "number_of_topics = 5\n",
        "model_p = LatentDirichletAllocation(n_components=number_of_topics, random_state=0)\n",
        "model_p.fit(tf_p)"
      ],
      "execution_count": 0,
      "outputs": [
        {
          "output_type": "stream",
          "text": [
            "/usr/local/lib/python3.6/dist-packages/ipykernel_launcher.py:1: SettingWithCopyWarning: \n",
            "A value is trying to be set on a copy of a slice from a DataFrame.\n",
            "Try using .loc[row_indexer,col_indexer] = value instead\n",
            "\n",
            "See the caveats in the documentation: http://pandas.pydata.org/pandas-docs/stable/user_guide/indexing.html#returning-a-view-versus-a-copy\n",
            "  \"\"\"Entry point for launching an IPython kernel.\n"
          ],
          "name": "stderr"
        },
        {
          "output_type": "execute_result",
          "data": {
            "text/plain": [
              "LatentDirichletAllocation(batch_size=128, doc_topic_prior=None,\n",
              "                          evaluate_every=-1, learning_decay=0.7,\n",
              "                          learning_method='batch', learning_offset=10.0,\n",
              "                          max_doc_update_iter=100, max_iter=10,\n",
              "                          mean_change_tol=0.001, n_components=5, n_jobs=None,\n",
              "                          perp_tol=0.1, random_state=0, topic_word_prior=None,\n",
              "                          total_samples=1000000.0, verbose=0)"
            ]
          },
          "metadata": {
            "tags": []
          },
          "execution_count": 159
        }
      ]
    },
    {
      "cell_type": "code",
      "metadata": {
        "id": "2YUynEr_omGZ",
        "colab_type": "code",
        "outputId": "eb27fdf8-1cf6-4346-f217-7c48f97ce8f1",
        "colab": {
          "base_uri": "https://localhost:8080/",
          "height": 364
        }
      },
      "source": [
        "no_top_words = 10\n",
        "display_topics(model_p, tf_feature_names_p, no_top_words)"
      ],
      "execution_count": 0,
      "outputs": [
        {
          "output_type": "execute_result",
          "data": {
            "text/html": [
              "<div>\n",
              "<style scoped>\n",
              "    .dataframe tbody tr th:only-of-type {\n",
              "        vertical-align: middle;\n",
              "    }\n",
              "\n",
              "    .dataframe tbody tr th {\n",
              "        vertical-align: top;\n",
              "    }\n",
              "\n",
              "    .dataframe thead th {\n",
              "        text-align: right;\n",
              "    }\n",
              "</style>\n",
              "<table border=\"1\" class=\"dataframe\">\n",
              "  <thead>\n",
              "    <tr style=\"text-align: right;\">\n",
              "      <th></th>\n",
              "      <th>Topic 0 words</th>\n",
              "      <th>Topic 0 weights</th>\n",
              "      <th>Topic 1 words</th>\n",
              "      <th>Topic 1 weights</th>\n",
              "      <th>Topic 2 words</th>\n",
              "      <th>Topic 2 weights</th>\n",
              "      <th>Topic 3 words</th>\n",
              "      <th>Topic 3 weights</th>\n",
              "      <th>Topic 4 words</th>\n",
              "      <th>Topic 4 weights</th>\n",
              "    </tr>\n",
              "  </thead>\n",
              "  <tbody>\n",
              "    <tr>\n",
              "      <th>0</th>\n",
              "      <td>unit</td>\n",
              "      <td>602.7</td>\n",
              "      <td>unit</td>\n",
              "      <td>556.0</td>\n",
              "      <td>flight</td>\n",
              "      <td>1074.2</td>\n",
              "      <td>southwestair</td>\n",
              "      <td>901.1</td>\n",
              "      <td>jetblu</td>\n",
              "      <td>721.3</td>\n",
              "    </tr>\n",
              "    <tr>\n",
              "      <th>1</th>\n",
              "      <td>flight</td>\n",
              "      <td>333.6</td>\n",
              "      <td>usairway</td>\n",
              "      <td>170.5</td>\n",
              "      <td>usairway</td>\n",
              "      <td>332.0</td>\n",
              "      <td>thank</td>\n",
              "      <td>282.5</td>\n",
              "      <td>thank</td>\n",
              "      <td>706.1</td>\n",
              "    </tr>\n",
              "    <tr>\n",
              "      <th>2</th>\n",
              "      <td>plane</td>\n",
              "      <td>256.1</td>\n",
              "      <td>thank</td>\n",
              "      <td>168.4</td>\n",
              "      <td>americanair</td>\n",
              "      <td>319.3</td>\n",
              "      <td>fli</td>\n",
              "      <td>260.1</td>\n",
              "      <td>americanair</td>\n",
              "      <td>388.3</td>\n",
              "    </tr>\n",
              "    <tr>\n",
              "      <th>3</th>\n",
              "      <td>time</td>\n",
              "      <td>253.7</td>\n",
              "      <td>pleas</td>\n",
              "      <td>157.0</td>\n",
              "      <td>cancel</td>\n",
              "      <td>277.2</td>\n",
              "      <td>servic</td>\n",
              "      <td>253.1</td>\n",
              "      <td>unit</td>\n",
              "      <td>270.4</td>\n",
              "    </tr>\n",
              "    <tr>\n",
              "      <th>4</th>\n",
              "      <td>usairway</td>\n",
              "      <td>223.2</td>\n",
              "      <td>right</td>\n",
              "      <td>142.5</td>\n",
              "      <td>delay</td>\n",
              "      <td>242.6</td>\n",
              "      <td>virginamerica</td>\n",
              "      <td>226.2</td>\n",
              "      <td></td>\n",
              "      <td>235.9</td>\n",
              "    </tr>\n",
              "    <tr>\n",
              "      <th>5</th>\n",
              "      <td>seat</td>\n",
              "      <td>211.2</td>\n",
              "      <td>americanair</td>\n",
              "      <td>135.5</td>\n",
              "      <td>hour</td>\n",
              "      <td>226.1</td>\n",
              "      <td>custom</td>\n",
              "      <td>216.5</td>\n",
              "      <td>usairway</td>\n",
              "      <td>206.9</td>\n",
              "    </tr>\n",
              "    <tr>\n",
              "      <th>6</th>\n",
              "      <td>first</td>\n",
              "      <td>210.2</td>\n",
              "      <td></td>\n",
              "      <td>132.2</td>\n",
              "      <td>get</td>\n",
              "      <td>185.3</td>\n",
              "      <td>love</td>\n",
              "      <td>192.8</td>\n",
              "      <td>great</td>\n",
              "      <td>192.6</td>\n",
              "    </tr>\n",
              "    <tr>\n",
              "      <th>7</th>\n",
              "      <td>americanair</td>\n",
              "      <td>198.5</td>\n",
              "      <td>jetblu</td>\n",
              "      <td>90.6</td>\n",
              "      <td>flightl</td>\n",
              "      <td>132.2</td>\n",
              "      <td>jetblu</td>\n",
              "      <td>156.9</td>\n",
              "      <td>help</td>\n",
              "      <td>152.2</td>\n",
              "    </tr>\n",
              "    <tr>\n",
              "      <th>8</th>\n",
              "      <td>gate</td>\n",
              "      <td>164.3</td>\n",
              "      <td>want</td>\n",
              "      <td>88.4</td>\n",
              "      <td>hold</td>\n",
              "      <td>113.0</td>\n",
              "      <td>guy</td>\n",
              "      <td>152.8</td>\n",
              "      <td>would</td>\n",
              "      <td>133.2</td>\n",
              "    </tr>\n",
              "    <tr>\n",
              "      <th>9</th>\n",
              "      <td>get</td>\n",
              "      <td>147.7</td>\n",
              "      <td>email</td>\n",
              "      <td>83.9</td>\n",
              "      <td>southwestair</td>\n",
              "      <td>110.3</td>\n",
              "      <td>flight</td>\n",
              "      <td>148.4</td>\n",
              "      <td>much</td>\n",
              "      <td>115.0</td>\n",
              "    </tr>\n",
              "  </tbody>\n",
              "</table>\n",
              "</div>"
            ],
            "text/plain": [
              "  Topic 0 words Topic 0 weights  ... Topic 4 words Topic 4 weights\n",
              "0          unit           602.7  ...        jetblu           721.3\n",
              "1        flight           333.6  ...         thank           706.1\n",
              "2         plane           256.1  ...   americanair           388.3\n",
              "3          time           253.7  ...          unit           270.4\n",
              "4      usairway           223.2  ...                        235.9\n",
              "5          seat           211.2  ...      usairway           206.9\n",
              "6         first           210.2  ...         great           192.6\n",
              "7   americanair           198.5  ...          help           152.2\n",
              "8          gate           164.3  ...         would           133.2\n",
              "9           get           147.7  ...          much           115.0\n",
              "\n",
              "[10 rows x 10 columns]"
            ]
          },
          "metadata": {
            "tags": []
          },
          "execution_count": 160
        }
      ]
    }
  ]
}